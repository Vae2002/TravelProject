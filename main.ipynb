{
 "cells": [
  {
   "cell_type": "code",
   "execution_count": 8,
   "metadata": {},
   "outputs": [],
   "source": [
    "import pandas as pd\n",
    "import numpy as np\n",
    "from neo4j import GraphDatabase\n",
    "from neo4j.exceptions import ServiceUnavailable\n",
    "from sentence_transformers import SentenceTransformer\n",
    "from sklearn.metrics.pairwise import cosine_similarity\n",
    "from transformers import pipeline\n",
    "\n",
    "### CONFIGURATION ###\n",
    "NEO4J_URI = \"bolt://localhost:7687\"\n",
    "NEO4J_USER = \"neo4j\"\n",
    "NEO4J_PASSWORD = \"argentic\"  \n",
    "\n",
    "\n"
   ]
  },
  {
   "cell_type": "markdown",
   "metadata": {},
   "source": [
    "# ----------------------------\n",
    "# 1. Connect to Neo4j and Retrieve Nodes\n",
    "# ----------------------------"
   ]
  },
  {
   "cell_type": "code",
   "execution_count": 9,
   "metadata": {},
   "outputs": [
    {
     "name": "stdout",
     "output_type": "stream",
     "text": [
      "Connected to Neo4j successfully.\n"
     ]
    }
   ],
   "source": [
    "\n",
    "try:\n",
    "    driver = GraphDatabase.driver(NEO4J_URI, auth=(NEO4J_USER, NEO4J_PASSWORD))\n",
    "    # Test connection\n",
    "    with driver.session() as session:\n",
    "        session.run(\"RETURN 1\")\n",
    "    print(\"Connected to Neo4j successfully.\")\n",
    "except ServiceUnavailable as e:\n",
    "    print(\"Neo4j connection error:\", e)\n",
    "    exit(1)\n",
    "\n",
    "def get_nodes(label):\n",
    "    with driver.session() as session:\n",
    "        result = session.run(f\"MATCH (n:{label}) RETURN n\")\n",
    "        nodes = [record[\"n\"] for record in result]\n",
    "    return nodes\n",
    "\n",
    "# Retrieve nodes from the graph.\n",
    "cities = get_nodes(\"City\")\n",
    "flights = get_nodes(\"Flight\")\n",
    "hotels = get_nodes(\"Hotel\")\n",
    "restaurants = get_nodes(\"Restaurant\")\n",
    "preferences = get_nodes(\"Preference\")\n",
    "users = get_nodes(\"User\")"
   ]
  },
  {
   "cell_type": "markdown",
   "metadata": {},
   "source": [
    "# ----------------------------\n",
    "# 2. Create Clean Text Representations for Each Node\n",
    "# ----------------------------"
   ]
  },
  {
   "cell_type": "code",
   "execution_count": 10,
   "metadata": {},
   "outputs": [
    {
     "name": "stdout",
     "output_type": "stream",
     "text": [
      "Total representations for retrieval: 1000\n"
     ]
    }
   ],
   "source": [
    "\n",
    "\n",
    "def build_representation(props, fields):\n",
    "    parts = []\n",
    "    for field, label in fields.items():\n",
    "        value = props.get(field)\n",
    "        if value is not None and str(value).strip() != \"\":\n",
    "            parts.append(f\"{label}: {value}\")\n",
    "    return \"; \".join(parts)\n",
    "\n",
    "def represent_city(node):\n",
    "    fields = {\n",
    "        \"City\": \"City\",\n",
    "        \"Country\": \"Country\",\n",
    "        \"weather\": \"Weather\",\n",
    "        \"avg_flight_cost\": \"Avg Flight Cost\",\n",
    "        \"avg_hotel_cost\": \"Avg Hotel Cost\"\n",
    "    }\n",
    "    return build_representation(node._properties, fields)\n",
    "\n",
    "def represent_flight(node):\n",
    "    fields = {\n",
    "        \"Flight\": \"Flight\",\n",
    "        \"Departure\": \"Departure\",\n",
    "        \"Arrival\": \"Arrival\",\n",
    "        \"avg_cost\": \"Avg Cost\"\n",
    "    }\n",
    "    return build_representation(node._properties, fields)\n",
    "\n",
    "def represent_hotel(node):\n",
    "    fields = {\n",
    "        \"Hotel\": \"Hotel\",\n",
    "        \"City\": \"City\",\n",
    "        \"Country\": \"Country\",\n",
    "        \"avg_cost\": \"Avg Cost\"\n",
    "    }\n",
    "    return build_representation(node._properties, fields)\n",
    "\n",
    "def represent_restaurant(node):\n",
    "    fields = {\n",
    "        \"Restaurant\": \"Restaurant\",\n",
    "        \"City\": \"City\",\n",
    "        \"Country\": \"Country\",\n",
    "        \"rating\": \"Rating\"\n",
    "    }\n",
    "    return build_representation(node._properties, fields)\n",
    "\n",
    "def represent_preference(node):\n",
    "    fields = {\n",
    "        \"user_id\": \"User ID\",\n",
    "        \"preferences\": \"Preferences\"\n",
    "    }\n",
    "    return build_representation(node._properties, fields)\n",
    "\n",
    "def represent_user(node):\n",
    "    fields = {\n",
    "        \"user_id\": \"User ID\",\n",
    "        \"name\": \"Name\"\n",
    "    }\n",
    "    return build_representation(node._properties, fields)\n",
    "\n",
    "def get_clean_representations(nodes, represent_func):\n",
    "    reps = []\n",
    "    for node in nodes:\n",
    "        rep = represent_func(node)\n",
    "        if rep and \"Unknown\" not in rep:\n",
    "            reps.append(rep)\n",
    "    return reps\n",
    "\n",
    "representations = []\n",
    "representations += get_clean_representations(cities, represent_city)\n",
    "representations += get_clean_representations(flights, represent_flight)\n",
    "representations += get_clean_representations(hotels, represent_hotel)\n",
    "representations += get_clean_representations(restaurants, represent_restaurant)\n",
    "representations += get_clean_representations(preferences, represent_preference)\n",
    "representations += get_clean_representations(users, represent_user)\n",
    "\n",
    "if not representations:\n",
    "    print(\"Warning: No clean representations found; using all available representations.\")\n",
    "    for node in cities:\n",
    "        representations.append(represent_city(node))\n",
    "    for node in flights:\n",
    "        representations.append(represent_flight(node))\n",
    "    for node in hotels:\n",
    "        representations.append(represent_hotel(node))\n",
    "    for node in restaurants:\n",
    "        representations.append(represent_restaurant(node))\n",
    "    for node in preferences:\n",
    "        representations.append(represent_preference(node))\n",
    "    for node in users:\n",
    "        representations.append(represent_user(node))\n",
    "\n",
    "representations = list(set(representations))\n",
    "print(f\"Total representations for retrieval: {len(representations)}\")\n",
    "\n"
   ]
  },
  {
   "cell_type": "markdown",
   "metadata": {},
   "source": [
    "# ----------------------------\n",
    "# 3. Compute Embeddings for All Representations\n",
    "# ----------------------------"
   ]
  },
  {
   "cell_type": "code",
   "execution_count": 11,
   "metadata": {},
   "outputs": [
    {
     "name": "stdout",
     "output_type": "stream",
     "text": [
      "Computing embeddings...\n"
     ]
    }
   ],
   "source": [
    "print(\"Computing embeddings...\")\n",
    "embedder = SentenceTransformer(\"all-MiniLM-L6-v2\")\n",
    "doc_embeddings = embedder.encode(representations, convert_to_tensor=True)"
   ]
  },
  {
   "cell_type": "markdown",
   "metadata": {},
   "source": [
    "# ----------------------------\n",
    "# 4. Define a Retrieval Function\n",
    "# ----------------------------"
   ]
  },
  {
   "cell_type": "code",
   "execution_count": 12,
   "metadata": {},
   "outputs": [],
   "source": [
    "def retrieve_documents(query, top_k=3):\n",
    "    query_embedding = embedder.encode([query], convert_to_tensor=True)\n",
    "    cos_scores = cosine_similarity(query_embedding.cpu().numpy(), doc_embeddings.cpu().numpy())[0]\n",
    "    top_indices = np.argsort(cos_scores)[::-1][:top_k]\n",
    "    retrieved_docs = [representations[i] for i in top_indices]\n",
    "    return retrieved_docs"
   ]
  },
  {
   "cell_type": "markdown",
   "metadata": {},
   "source": [
    "# ----------------------------\n",
    "# 5. LLM for Final Answer Generation (Streamlined Prompt)\n",
    "# ----------------------------"
   ]
  },
  {
   "cell_type": "code",
   "execution_count": 13,
   "metadata": {},
   "outputs": [
    {
     "name": "stderr",
     "output_type": "stream",
     "text": [
      "Device set to use cpu\n"
     ]
    }
   ],
   "source": [
    "generator = pipeline(\"text-generation\", model=\"gpt2\", max_length=150)\n",
    "\n",
    "def generate_final_answer(query):\n",
    "    retrieved_docs = retrieve_documents(query, top_k=3)\n",
    "    # Build a clean prompt without repeating extraneous information.\n",
    "    prompt = \"Travel Data:\\n\" + \"\\n\".join(retrieved_docs) + \"\\n\\n\"\n",
    "    prompt += f\"Question: {query}\\nAnswer:\"\n",
    "    result = generator(prompt, max_length=150, num_return_sequences=1)\n",
    "    generated_text = result[0][\"generated_text\"]\n",
    "    # Remove the prompt from the output.\n",
    "    answer = generated_text.replace(prompt, \"\").strip()\n",
    "    # Optionally, split and take the first line if it contains extra information.\n",
    "    answer = answer.split(\"\\n\")[0].strip()\n",
    "    return answer\n"
   ]
  },
  {
   "cell_type": "markdown",
   "metadata": {},
   "source": [
    "# ----------------------------\n",
    "# 6. Process Sample Questions and Save to CSV\n",
    "# ----------------------------"
   ]
  },
  {
   "cell_type": "code",
   "execution_count": 20,
   "metadata": {},
   "outputs": [
    {
     "name": "stderr",
     "output_type": "stream",
     "text": [
      "Setting `pad_token_id` to `eos_token_id`:50256 for open-end generation.\n",
      "Setting `pad_token_id` to `eos_token_id`:50256 for open-end generation.\n"
     ]
    },
    {
     "name": "stdout",
     "output_type": "stream",
     "text": [
      "Q: What country is Miami in and what are the average travel costs there?\n",
      "A: Miami only happens in the US, but has a big population. There are four major cities: Miami-Dade, Miami Beach, Miami\n",
      "-----\n"
     ]
    },
    {
     "name": "stderr",
     "output_type": "stream",
     "text": [
      "Setting `pad_token_id` to `eos_token_id`:50256 for open-end generation.\n"
     ]
    },
    {
     "name": "stdout",
     "output_type": "stream",
     "text": [
      "Q: List cities with sunny weather and affordable flight and hotel costs.\n",
      "A: The cities that receive most of their services are those with the largest numbers of flights and hotels.\n",
      "-----\n"
     ]
    },
    {
     "name": "stderr",
     "output_type": "stream",
     "text": [
      "Setting `pad_token_id` to `eos_token_id`:50256 for open-end generation.\n"
     ]
    },
    {
     "name": "stdout",
     "output_type": "stream",
     "text": [
      "Q: What is the average flight cost to Paris?\n",
      "A: $16,200 for this flight\n",
      "-----\n"
     ]
    },
    {
     "name": "stderr",
     "output_type": "stream",
     "text": [
      "Setting `pad_token_id` to `eos_token_id`:50256 for open-end generation.\n"
     ]
    },
    {
     "name": "stdout",
     "output_type": "stream",
     "text": [
      "Q: Which city offers last-minute travel deals?\n",
      "A: Seattle (USA).\n",
      "-----\n"
     ]
    },
    {
     "name": "stderr",
     "output_type": "stream",
     "text": [
      "Setting `pad_token_id` to `eos_token_id`:50256 for open-end generation.\n"
     ]
    },
    {
     "name": "stdout",
     "output_type": "stream",
     "text": [
      "Q: Find restaurants in New York with high ratings.\n",
      "A: It's all New York City. We get about 5,000 visitors per day and that makes the rest Chicago and Miami to Chicago in\n",
      "-----\n"
     ]
    },
    {
     "name": "stderr",
     "output_type": "stream",
     "text": [
      "Setting `pad_token_id` to `eos_token_id`:50256 for open-end generation.\n"
     ]
    },
    {
     "name": "stdout",
     "output_type": "stream",
     "text": [
      "Q: What is the average hotel cost in Tokyo?\n",
      "A: We have only been able to find out how much hotel costs, but we do know how much the average tourist spends there.\n",
      "-----\n"
     ]
    },
    {
     "name": "stderr",
     "output_type": "stream",
     "text": [
      "Setting `pad_token_id` to `eos_token_id`:50256 for open-end generation.\n"
     ]
    },
    {
     "name": "stdout",
     "output_type": "stream",
     "text": [
      "Q: Which flight provides the best balance of cost and travel time?\n",
      "A: Answer:\n",
      "-----\n"
     ]
    },
    {
     "name": "stderr",
     "output_type": "stream",
     "text": [
      "Setting `pad_token_id` to `eos_token_id`:50256 for open-end generation.\n"
     ]
    },
    {
     "name": "stdout",
     "output_type": "stream",
     "text": [
      "Q: List cities with rainy weather.\n",
      "A: City: South Australia\n",
      "-----\n"
     ]
    },
    {
     "name": "stderr",
     "output_type": "stream",
     "text": [
      "Setting `pad_token_id` to `eos_token_id`:50256 for open-end generation.\n"
     ]
    },
    {
     "name": "stdout",
     "output_type": "stream",
     "text": [
      "Q: What are common user travel preferences?\n",
      "A: 1. The United States. Travel on International Business Travel (UPTC) is regulated by the Travel Information and Travel Book (TIB). Based on that information, travelers can apply for federal health, transportation and housing assistance. These\n",
      "-----\n"
     ]
    },
    {
     "name": "stderr",
     "output_type": "stream",
     "text": [
      "Setting `pad_token_id` to `eos_token_id`:50256 for open-end generation.\n"
     ]
    },
    {
     "name": "stdout",
     "output_type": "stream",
     "text": [
      "Q: Which city has a high cultural score and low hotel cost?\n",
      "A: Austin, Texas. On a recent trip to South America, we met some of the country's top leaders, including Vice President Al Gore. With\n",
      "-----\n"
     ]
    },
    {
     "name": "stderr",
     "output_type": "stream",
     "text": [
      "Setting `pad_token_id` to `eos_token_id`:50256 for open-end generation.\n"
     ]
    },
    {
     "name": "stdout",
     "output_type": "stream",
     "text": [
      "Q: Find flights departing from New York with low average cost.\n",
      "A: Find the minimum required cost. Cost is measured by the airport/carrier.\n",
      "-----\n"
     ]
    },
    {
     "name": "stderr",
     "output_type": "stream",
     "text": [
      "Setting `pad_token_id` to `eos_token_id`:50256 for open-end generation.\n"
     ]
    },
    {
     "name": "stdout",
     "output_type": "stream",
     "text": [
      "Q: Which hotel in Paris has the best reviews?\n",
      "A: The best reviews are given for hotel-specific reasons, rather than the same ones from other social networking sites.\n",
      "-----\n"
     ]
    },
    {
     "name": "stderr",
     "output_type": "stream",
     "text": [
      "Setting `pad_token_id` to `eos_token_id`:50256 for open-end generation.\n"
     ]
    },
    {
     "name": "stdout",
     "output_type": "stream",
     "text": [
      "Q: List restaurants in San Francisco with a rating above 4.5.\n",
      "A: No, that's not possible. For more information about our rating, visit https://goo.gl/\n",
      "-----\n"
     ]
    },
    {
     "name": "stderr",
     "output_type": "stream",
     "text": [
      "Setting `pad_token_id` to `eos_token_id`:50256 for open-end generation.\n"
     ]
    },
    {
     "name": "stdout",
     "output_type": "stream",
     "text": [
      "Q: Which city in Europe is known for its sunny weather?\n",
      "A: The Greek \"virno\" is \"viking\" and its \"vietnost\" is \"viking-cynicum\n",
      "-----\n"
     ]
    },
    {
     "name": "stderr",
     "output_type": "stream",
     "text": [
      "Setting `pad_token_id` to `eos_token_id`:50256 for open-end generation.\n"
     ]
    },
    {
     "name": "stdout",
     "output_type": "stream",
     "text": [
      "Q: Find travel options for budget-conscious travelers.\n",
      "A: Traveling data is collected primarily for the purposes of booking and using various travel websites, and it is not necessarily accurate to make specific estimates with no\n",
      "-----\n"
     ]
    },
    {
     "name": "stderr",
     "output_type": "stream",
     "text": [
      "Setting `pad_token_id` to `eos_token_id`:50256 for open-end generation.\n"
     ]
    },
    {
     "name": "stdout",
     "output_type": "stream",
     "text": [
      "Q: Which user has expressed interest in cultural attractions?\n",
      "A: In August 2017, I visited The Great Lakes, the site of the World's Fair. I love watching nature! I like to have a good time\n",
      "-----\n"
     ]
    },
    {
     "name": "stderr",
     "output_type": "stream",
     "text": [
      "Setting `pad_token_id` to `eos_token_id`:50256 for open-end generation.\n"
     ]
    },
    {
     "name": "stdout",
     "output_type": "stream",
     "text": [
      "Q: List cities with a high average flight cost.\n",
      "A: None\n",
      "-----\n"
     ]
    },
    {
     "name": "stderr",
     "output_type": "stream",
     "text": [
      "Setting `pad_token_id` to `eos_token_id`:50256 for open-end generation.\n"
     ]
    },
    {
     "name": "stdout",
     "output_type": "stream",
     "text": [
      "Q: Which flight has the shortest travel time?\n",
      "A: A flight with shortest flight times will typically reach its maximum trip time in less than 10 minutes.\n",
      "-----\n"
     ]
    },
    {
     "name": "stderr",
     "output_type": "stream",
     "text": [
      "Setting `pad_token_id` to `eos_token_id`:50256 for open-end generation.\n"
     ]
    },
    {
     "name": "stdout",
     "output_type": "stream",
     "text": [
      "Q: Find hotels with an average cost below $100.\n",
      "A: None. Hotel Cost: This category, not $100+ at first, is to be used.\n",
      "-----\n"
     ]
    },
    {
     "name": "stderr",
     "output_type": "stream",
     "text": [
      "Setting `pad_token_id` to `eos_token_id`:50256 for open-end generation.\n"
     ]
    },
    {
     "name": "stdout",
     "output_type": "stream",
     "text": [
      "Q: Which restaurant in Rome is best known for its authentic cuisine?\n",
      "A: There are a couple of popular food chains in many European cities, but a real win for those who want to understand Italian dining trends\n",
      "-----\n"
     ]
    },
    {
     "name": "stderr",
     "output_type": "stream",
     "text": [
      "Setting `pad_token_id` to `eos_token_id`:50256 for open-end generation.\n"
     ]
    },
    {
     "name": "stdout",
     "output_type": "stream",
     "text": [
      "Q: List all cities offering last-minute deals.\n",
      "A: Most businesses do offer this option, but for people at risk or without a plan, a small discount is more than necessary!\n",
      "-----\n"
     ]
    },
    {
     "name": "stderr",
     "output_type": "stream",
     "text": [
      "Setting `pad_token_id` to `eos_token_id`:50256 for open-end generation.\n"
     ]
    },
    {
     "name": "stdout",
     "output_type": "stream",
     "text": [
      "Q: What is the average hotel cost in New York?\n",
      "A: $30 a night\n",
      "-----\n"
     ]
    },
    {
     "name": "stderr",
     "output_type": "stream",
     "text": [
      "Setting `pad_token_id` to `eos_token_id`:50256 for open-end generation.\n"
     ]
    },
    {
     "name": "stdout",
     "output_type": "stream",
     "text": [
      "Q: Which city has the highest cultural score?\n",
      "A: Honolulu\n",
      "-----\n"
     ]
    },
    {
     "name": "stderr",
     "output_type": "stream",
     "text": [
      "Setting `pad_token_id` to `eos_token_id`:50256 for open-end generation.\n"
     ]
    },
    {
     "name": "stdout",
     "output_type": "stream",
     "text": [
      "Q: Find flights with the best customer reviews.\n",
      "A: We do our best to report our flight delays as follows:\n",
      "-----\n"
     ]
    },
    {
     "name": "stderr",
     "output_type": "stream",
     "text": [
      "Setting `pad_token_id` to `eos_token_id`:50256 for open-end generation.\n"
     ]
    },
    {
     "name": "stdout",
     "output_type": "stream",
     "text": [
      "Q: Which hotel offers the best value for money in London?\n",
      "A: You can go with any hotel in London and you can find out which one has the best value per minute (usually at $40 to $50 each\n",
      "-----\n"
     ]
    },
    {
     "name": "stderr",
     "output_type": "stream",
     "text": [
      "Setting `pad_token_id` to `eos_token_id`:50256 for open-end generation.\n"
     ]
    },
    {
     "name": "stdout",
     "output_type": "stream",
     "text": [
      "Q: List restaurants with diverse cuisine options in Los Angeles.\n",
      "A: You must provide an official menu, because it is not official.\n",
      "-----\n"
     ]
    },
    {
     "name": "stderr",
     "output_type": "stream",
     "text": [
      "Setting `pad_token_id` to `eos_token_id`:50256 for open-end generation.\n"
     ]
    },
    {
     "name": "stdout",
     "output_type": "stream",
     "text": [
      "Q: Which flight is most popular among users?\n",
      "A: Flight Number: K933, G27-1H, G35-L\n",
      "-----\n"
     ]
    },
    {
     "name": "stderr",
     "output_type": "stream",
     "text": [
      "Setting `pad_token_id` to `eos_token_id`:50256 for open-end generation.\n"
     ]
    },
    {
     "name": "stdout",
     "output_type": "stream",
     "text": [
      "Q: Find cities with both low flight and hotel costs.\n",
      "A: San Diego and San Francisco\n",
      "-----\n"
     ]
    },
    {
     "name": "stderr",
     "output_type": "stream",
     "text": [
      "Setting `pad_token_id` to `eos_token_id`:50256 for open-end generation.\n"
     ]
    },
    {
     "name": "stdout",
     "output_type": "stream",
     "text": [
      "Q: Which restaurant has the highest rating overall?\n",
      "A: From:\n",
      "-----\n"
     ]
    },
    {
     "name": "stderr",
     "output_type": "stream",
     "text": [
      "Setting `pad_token_id` to `eos_token_id`:50256 for open-end generation.\n"
     ]
    },
    {
     "name": "stdout",
     "output_type": "stream",
     "text": [
      "Q: List travel options for luxury seekers.\n",
      "A: Q: Are you sure travelers are at least 18 years old to enter the United States?\n",
      "-----\n"
     ]
    },
    {
     "name": "stderr",
     "output_type": "stream",
     "text": [
      "Setting `pad_token_id` to `eos_token_id`:50256 for open-end generation.\n"
     ]
    },
    {
     "name": "stdout",
     "output_type": "stream",
     "text": [
      "Q: Which city is known for its diverse cultural heritage?\n",
      "A: New Bedford.\n",
      "-----\n"
     ]
    },
    {
     "name": "stderr",
     "output_type": "stream",
     "text": [
      "Setting `pad_token_id` to `eos_token_id`:50256 for open-end generation.\n"
     ]
    },
    {
     "name": "stdout",
     "output_type": "stream",
     "text": [
      "Q: Find budget hotels in Miami.\n",
      "A: They're pretty terrible.\n",
      "-----\n"
     ]
    },
    {
     "name": "stderr",
     "output_type": "stream",
     "text": [
      "Setting `pad_token_id` to `eos_token_id`:50256 for open-end generation.\n"
     ]
    },
    {
     "name": "stdout",
     "output_type": "stream",
     "text": [
      "Q: Which flight has the best on-time performance?\n",
      "A: The best way to determine which flight has the fastest on-time performance is to use Flight Quality in the Flight Data. See below. This will determine how\n",
      "-----\n"
     ]
    },
    {
     "name": "stderr",
     "output_type": "stream",
     "text": [
      "Setting `pad_token_id` to `eos_token_id`:50256 for open-end generation.\n"
     ]
    },
    {
     "name": "stdout",
     "output_type": "stream",
     "text": [
      "Q: List restaurants that are popular among locals.\n",
      "A: Question: The first thing to notice when choosing restaurants in rural and urban settings are the locations of hotels with convenient access (although it should not be so apparent to a\n",
      "-----\n"
     ]
    },
    {
     "name": "stderr",
     "output_type": "stream",
     "text": [
      "Setting `pad_token_id` to `eos_token_id`:50256 for open-end generation.\n"
     ]
    },
    {
     "name": "stdout",
     "output_type": "stream",
     "text": [
      "Q: Which city offers the best combination of weather and cultural attractions?\n",
      "A: Dallas, TX\n",
      "-----\n"
     ]
    },
    {
     "name": "stderr",
     "output_type": "stream",
     "text": [
      "Setting `pad_token_id` to `eos_token_id`:50256 for open-end generation.\n"
     ]
    },
    {
     "name": "stdout",
     "output_type": "stream",
     "text": [
      "Q: Find flights that operate internationally with low cost.\n",
      "A: The easiest way to find international flights is to head to a website like Credibility.org. The site has flights to Europe such as the\n",
      "-----\n"
     ]
    },
    {
     "name": "stderr",
     "output_type": "stream",
     "text": [
      "Setting `pad_token_id` to `eos_token_id`:50256 for open-end generation.\n"
     ]
    },
    {
     "name": "stdout",
     "output_type": "stream",
     "text": [
      "Q: Which hotel in Tokyo is recommended for business travelers?\n",
      "A: Chino (K-G 7, Yamanashi-ku 9)\n",
      "-----\n"
     ]
    },
    {
     "name": "stderr",
     "output_type": "stream",
     "text": [
      "Setting `pad_token_id` to `eos_token_id`:50256 for open-end generation.\n"
     ]
    },
    {
     "name": "stdout",
     "output_type": "stream",
     "text": [
      "Q: List cities with high tourist satisfaction ratings.\n",
      "A: High-end rental city in the state of North Carolina. If you are in one of these cities, you can move in, but you will need the ID\n",
      "-----\n"
     ]
    },
    {
     "name": "stderr",
     "output_type": "stream",
     "text": [
      "Setting `pad_token_id` to `eos_token_id`:50256 for open-end generation.\n"
     ]
    },
    {
     "name": "stdout",
     "output_type": "stream",
     "text": [
      "Q: Which restaurant offers the best outdoor dining experience?\n",
      "A: I had high expectations for my next meal of meat tacos with beef. I was so surprised when I first came into this place. I really dig all\n",
      "-----\n"
     ]
    },
    {
     "name": "stderr",
     "output_type": "stream",
     "text": [
      "Setting `pad_token_id` to `eos_token_id`:50256 for open-end generation.\n"
     ]
    },
    {
     "name": "stdout",
     "output_type": "stream",
     "text": [
      "Q: Find travel options that emphasize eco-friendly practices.\n",
      "A: When it comes to travel, most places have a great combination of low carbon and sustainable living.\n",
      "-----\n"
     ]
    },
    {
     "name": "stderr",
     "output_type": "stream",
     "text": [
      "Setting `pad_token_id` to `eos_token_id`:50256 for open-end generation.\n"
     ]
    },
    {
     "name": "stdout",
     "output_type": "stream",
     "text": [
      "Q: Which flight offers flexible cancellation policies?\n",
      "A: You might be interested to know that in April, Delta Airlines changed its scheduling policy based on factors such as weather, crew availability and availability to customers.\n",
      "-----\n"
     ]
    },
    {
     "name": "stderr",
     "output_type": "stream",
     "text": [
      "Setting `pad_token_id` to `eos_token_id`:50256 for open-end generation.\n"
     ]
    },
    {
     "name": "stdout",
     "output_type": "stream",
     "text": [
      "Q: List hotels that have received awards for service excellence.\n",
      "A: There are over 600 award-winning hotels.\n",
      "-----\n"
     ]
    },
    {
     "name": "stderr",
     "output_type": "stream",
     "text": [
      "Setting `pad_token_id` to `eos_token_id`:50256 for open-end generation.\n"
     ]
    },
    {
     "name": "stdout",
     "output_type": "stream",
     "text": [
      "Q: Which city has the best public transportation system for tourists?\n",
      "A: San Francisco\n",
      "-----\n"
     ]
    },
    {
     "name": "stderr",
     "output_type": "stream",
     "text": [
      "Setting `pad_token_id` to `eos_token_id`:50256 for open-end generation.\n"
     ]
    },
    {
     "name": "stdout",
     "output_type": "stream",
     "text": [
      "Q: Find restaurants that offer vegan options.\n",
      "A: A food that is prepared using meat, dairy and eggs, is labeled Vegan with no animal derived ingredients. This means the food is not suitable for\n",
      "-----\n"
     ]
    },
    {
     "name": "stderr",
     "output_type": "stream",
     "text": [
      "Setting `pad_token_id` to `eos_token_id`:50256 for open-end generation.\n"
     ]
    },
    {
     "name": "stdout",
     "output_type": "stream",
     "text": [
      "Q: Which hotel in Paris offers the most affordable luxury experience?\n",
      "A: A resort or hostel at the Bernadino (744 L'Auvagne, Paris);\n",
      "-----\n"
     ]
    },
    {
     "name": "stderr",
     "output_type": "stream",
     "text": [
      "Setting `pad_token_id` to `eos_token_id`:50256 for open-end generation.\n"
     ]
    },
    {
     "name": "stdout",
     "output_type": "stream",
     "text": [
      "Q: List cities with a growing number of international flights.\n",
      "A: If I am travelling to a city in a jurisdiction that has a large number of international flights and it has not\n",
      "-----\n"
     ]
    },
    {
     "name": "stderr",
     "output_type": "stream",
     "text": [
      "Setting `pad_token_id` to `eos_token_id`:50256 for open-end generation.\n"
     ]
    },
    {
     "name": "stdout",
     "output_type": "stream",
     "text": [
      "Q: Which flight offers the best connectivity between major hubs?\n",
      "A: As above, the majority of airports across the world offer both a \"full\" and \"short\" choice for connecting flights. These are usually the hubs\n",
      "-----\n"
     ]
    },
    {
     "name": "stderr",
     "output_type": "stream",
     "text": [
      "Setting `pad_token_id` to `eos_token_id`:50256 for open-end generation.\n"
     ]
    },
    {
     "name": "stdout",
     "output_type": "stream",
     "text": [
      "Q: Find travel packages that include both flight and hotel discounts.\n",
      "A: Yes, the price shown above is a $20 booking discounts, but it is a more generous discount.\n",
      "-----\n"
     ]
    },
    {
     "name": "stderr",
     "output_type": "stream",
     "text": [
      "Setting `pad_token_id` to `eos_token_id`:50256 for open-end generation.\n"
     ]
    },
    {
     "name": "stdout",
     "output_type": "stream",
     "text": [
      "Q: Which city has the best nightlife for travelers?\n",
      "A: Vancouver, BC\n",
      "-----\n",
      "Q: Find budget-friendly restaurants in Chicago.\n",
      "A: In the last two years, Chicago has hired the largest private research organization in the country, a nonprofit group that takes money from the state of Illinois to create and\n",
      "-----\n",
      "CSV file 'generated_travel_queries.csv' created with question-answer pairs.\n"
     ]
    }
   ],
   "source": [
    "sample_questions = [\n",
    "    \"What country is Miami in and what are the average travel costs there?\",\n",
    "    \"List cities with sunny weather and affordable flight and hotel costs.\",\n",
    "    \"What is the average flight cost to Paris?\",\n",
    "    \"Which city offers last-minute travel deals?\",\n",
    "    \"Find restaurants in New York with high ratings.\",\n",
    "    \"What is the average hotel cost in Tokyo?\",\n",
    "    \"Which flight provides the best balance of cost and travel time?\",\n",
    "    \"List cities with rainy weather.\",\n",
    "    \"What are common user travel preferences?\",\n",
    "    \"Which city has a high cultural score and low hotel cost?\",\n",
    "    \"Find flights departing from New York with low average cost.\",\n",
    "    \"Which hotel in Paris has the best reviews?\",\n",
    "    \"List restaurants in San Francisco with a rating above 4.5.\",\n",
    "    \"Which city in Europe is known for its sunny weather?\",\n",
    "    \"Find travel options for budget-conscious travelers.\",\n",
    "    \"Which user has expressed interest in cultural attractions?\",\n",
    "    \"List cities with a high average flight cost.\",\n",
    "    \"Which flight has the shortest travel time?\",\n",
    "    \"Find hotels with an average cost below $100.\",\n",
    "    \"Which restaurant in Rome is best known for its authentic cuisine?\",\n",
    "    \"List all cities offering last-minute deals.\",\n",
    "    \"What is the average hotel cost in New York?\",\n",
    "    \"Which city has the highest cultural score?\",\n",
    "    \"Find flights with the best customer reviews.\",\n",
    "    \"Which hotel offers the best value for money in London?\",\n",
    "    \"List restaurants with diverse cuisine options in Los Angeles.\",\n",
    "    \"Which flight is most popular among users?\",\n",
    "    \"Find cities with both low flight and hotel costs.\",\n",
    "    \"Which restaurant has the highest rating overall?\",\n",
    "    \"List travel options for luxury seekers.\",\n",
    "    \"Which city is known for its diverse cultural heritage?\",\n",
    "    \"Find budget hotels in Miami.\",\n",
    "    \"Which flight has the best on-time performance?\",\n",
    "    \"List restaurants that are popular among locals.\",\n",
    "    \"Which city offers the best combination of weather and cultural attractions?\",\n",
    "    \"Find flights that operate internationally with low cost.\",\n",
    "    \"Which hotel in Tokyo is recommended for business travelers?\",\n",
    "    \"List cities with high tourist satisfaction ratings.\",\n",
    "    \"Which restaurant offers the best outdoor dining experience?\",\n",
    "    \"Find travel options that emphasize eco-friendly practices.\",\n",
    "    \"Which flight offers flexible cancellation policies?\",\n",
    "    \"List hotels that have received awards for service excellence.\",\n",
    "    \"Which city has the best public transportation system for tourists?\",\n",
    "    \"Find restaurants that offer vegan options.\",\n",
    "    \"Which hotel in Paris offers the most affordable luxury experience?\",\n",
    "    \"List cities with a growing number of international flights.\",\n",
    "    \"Which flight offers the best connectivity between major hubs?\",\n",
    "    \"Find travel packages that include both flight and hotel discounts.\",\n",
    "    \"Which city has the best nightlife for travelers?\",\n",
    "    \"Find budget-friendly restaurants in Chicago.\"\n",
    "]\n",
    "\n",
    "output_rows = []\n",
    "for q in sample_questions:\n",
    "    answer = generate_final_answer(q)\n",
    "    output_rows.append({\"Question\": q, \"Answer\": answer})\n",
    "    print(\"Q:\", q)\n",
    "    print(\"A:\", answer)\n",
    "    print(\"-----\")\n",
    "\n",
    "results_df = pd.DataFrame(output_rows)\n",
    "results_df.to_csv(\"generated_travel_queries.csv\", index=False)\n",
    "print(\"CSV file 'generated_travel_queries.csv' created with question-answer pairs.\")\n",
    "\n",
    "# Close the Neo4j driver\n",
    "driver.close()\n"
   ]
  }
 ],
 "metadata": {
  "kernelspec": {
   "display_name": "hf_env",
   "language": "python",
   "name": "python3"
  },
  "language_info": {
   "codemirror_mode": {
    "name": "ipython",
    "version": 3
   },
   "file_extension": ".py",
   "mimetype": "text/x-python",
   "name": "python",
   "nbconvert_exporter": "python",
   "pygments_lexer": "ipython3",
   "version": "3.11.11"
  }
 },
 "nbformat": 4,
 "nbformat_minor": 2
}
