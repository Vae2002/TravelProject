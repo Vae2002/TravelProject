{
 "cells": [
  {
   "cell_type": "code",
   "execution_count": 1,
   "metadata": {},
   "outputs": [],
   "source": [
    "import pandas as pd\n",
    "import numpy as np\n",
    "from neo4j import GraphDatabase\n",
    "from neo4j.exceptions import ServiceUnavailable\n",
    "from sentence_transformers import SentenceTransformer\n",
    "from sklearn.metrics.pairwise import cosine_similarity\n",
    "from transformers import pipeline\n",
    "\n",
    "### CONFIGURATION ###\n",
    "NEO4J_URI = \"bolt://localhost:7687\"\n",
    "NEO4J_USER = \"neo4j\"\n",
    "NEO4J_PASSWORD = \"argentic\"  \n",
    "\n",
    "\n"
   ]
  },
  {
   "cell_type": "markdown",
   "metadata": {},
   "source": [
    "1. Connect to Neo4j and Retrieve Nodes"
   ]
  },
  {
   "cell_type": "code",
   "execution_count": 2,
   "metadata": {},
   "outputs": [
    {
     "name": "stdout",
     "output_type": "stream",
     "text": [
      "Connected to Neo4j successfully.\n"
     ]
    }
   ],
   "source": [
    "\n",
    "try:\n",
    "    driver = GraphDatabase.driver(NEO4J_URI, auth=(NEO4J_USER, NEO4J_PASSWORD))\n",
    "    # Test connection\n",
    "    with driver.session() as session:\n",
    "        session.run(\"RETURN 1\")\n",
    "    print(\"Connected to Neo4j successfully.\")\n",
    "except ServiceUnavailable as e:\n",
    "    print(\"Neo4j connection error:\", e)\n",
    "    exit(1)\n",
    "\n",
    "def get_nodes(label):\n",
    "    with driver.session() as session:\n",
    "        result = session.run(f\"MATCH (n:{label}) RETURN n\")\n",
    "        nodes = [record[\"n\"] for record in result]\n",
    "    return nodes\n",
    "\n",
    "# Retrieve nodes from the graph.\n",
    "cities = get_nodes(\"City\")\n",
    "flights = get_nodes(\"Flight\")\n",
    "hotels = get_nodes(\"Hotel\")\n",
    "restaurants = get_nodes(\"Restaurant\")\n",
    "preferences = get_nodes(\"Preference\")\n",
    "users = get_nodes(\"User\")"
   ]
  },
  {
   "cell_type": "markdown",
   "metadata": {},
   "source": [
    "# ----------------------------\n",
    "# 2. Create Clean Text Representations for Each Node\n",
    "# ----------------------------"
   ]
  },
  {
   "cell_type": "code",
   "execution_count": 3,
   "metadata": {},
   "outputs": [
    {
     "name": "stdout",
     "output_type": "stream",
     "text": [
      "Total representations for retrieval: 1000\n"
     ]
    }
   ],
   "source": [
    "\n",
    "\n",
    "def build_representation(props, fields):\n",
    "    parts = []\n",
    "    for field, label in fields.items():\n",
    "        value = props.get(field)\n",
    "        if value is not None and str(value).strip() != \"\":\n",
    "            parts.append(f\"{label}: {value}\")\n",
    "    return \"; \".join(parts)\n",
    "\n",
    "def represent_city(node):\n",
    "    fields = {\n",
    "        \"City\": \"City\",\n",
    "        \"Country\": \"Country\",\n",
    "        \"weather\": \"Weather\",\n",
    "        \"avg_flight_cost\": \"Avg Flight Cost\",\n",
    "        \"avg_hotel_cost\": \"Avg Hotel Cost\"\n",
    "    }\n",
    "    return build_representation(node._properties, fields)\n",
    "\n",
    "def represent_flight(node):\n",
    "    fields = {\n",
    "        \"Flight\": \"Flight\",\n",
    "        \"Departure\": \"Departure\",\n",
    "        \"Arrival\": \"Arrival\",\n",
    "        \"avg_cost\": \"Avg Cost\"\n",
    "    }\n",
    "    return build_representation(node._properties, fields)\n",
    "\n",
    "def represent_hotel(node):\n",
    "    fields = {\n",
    "        \"Hotel\": \"Hotel\",\n",
    "        \"City\": \"City\",\n",
    "        \"Country\": \"Country\",\n",
    "        \"avg_cost\": \"Avg Cost\"\n",
    "    }\n",
    "    return build_representation(node._properties, fields)\n",
    "\n",
    "def represent_restaurant(node):\n",
    "    fields = {\n",
    "        \"Restaurant\": \"Restaurant\",\n",
    "        \"City\": \"City\",\n",
    "        \"Country\": \"Country\",\n",
    "        \"rating\": \"Rating\"\n",
    "    }\n",
    "    return build_representation(node._properties, fields)\n",
    "\n",
    "def represent_preference(node):\n",
    "    fields = {\n",
    "        \"user_id\": \"User ID\",\n",
    "        \"preferences\": \"Preferences\"\n",
    "    }\n",
    "    return build_representation(node._properties, fields)\n",
    "\n",
    "def represent_user(node):\n",
    "    fields = {\n",
    "        \"user_id\": \"User ID\",\n",
    "        \"name\": \"Name\"\n",
    "    }\n",
    "    return build_representation(node._properties, fields)\n",
    "\n",
    "def get_clean_representations(nodes, represent_func):\n",
    "    reps = []\n",
    "    for node in nodes:\n",
    "        rep = represent_func(node)\n",
    "        if rep and \"Unknown\" not in rep:\n",
    "            reps.append(rep)\n",
    "    return reps\n",
    "\n",
    "representations = []\n",
    "representations += get_clean_representations(cities, represent_city)\n",
    "representations += get_clean_representations(flights, represent_flight)\n",
    "representations += get_clean_representations(hotels, represent_hotel)\n",
    "representations += get_clean_representations(restaurants, represent_restaurant)\n",
    "representations += get_clean_representations(preferences, represent_preference)\n",
    "representations += get_clean_representations(users, represent_user)\n",
    "\n",
    "if not representations:\n",
    "    print(\"Warning: No clean representations found; using all available representations.\")\n",
    "    for node in cities:\n",
    "        representations.append(represent_city(node))\n",
    "    for node in flights:\n",
    "        representations.append(represent_flight(node))\n",
    "    for node in hotels:\n",
    "        representations.append(represent_hotel(node))\n",
    "    for node in restaurants:\n",
    "        representations.append(represent_restaurant(node))\n",
    "    for node in preferences:\n",
    "        representations.append(represent_preference(node))\n",
    "    for node in users:\n",
    "        representations.append(represent_user(node))\n",
    "\n",
    "representations = list(set(representations))\n",
    "print(f\"Total representations for retrieval: {len(representations)}\")\n",
    "\n"
   ]
  },
  {
   "cell_type": "markdown",
   "metadata": {},
   "source": [
    "# ----------------------------\n",
    "# 3. Compute Embeddings for All Representations\n",
    "# ----------------------------"
   ]
  },
  {
   "cell_type": "code",
   "execution_count": 4,
   "metadata": {},
   "outputs": [
    {
     "name": "stdout",
     "output_type": "stream",
     "text": [
      "Computing embeddings...\n"
     ]
    }
   ],
   "source": [
    "print(\"Computing embeddings...\")\n",
    "embedder = SentenceTransformer(\"all-MiniLM-L6-v2\")\n",
    "doc_embeddings = embedder.encode(representations, convert_to_tensor=True)"
   ]
  },
  {
   "cell_type": "markdown",
   "metadata": {},
   "source": [
    "# ----------------------------\n",
    "# 4. Define a Retrieval Function\n",
    "# ----------------------------"
   ]
  },
  {
   "cell_type": "code",
   "execution_count": 5,
   "metadata": {},
   "outputs": [],
   "source": [
    "def retrieve_documents(query, top_k=3):\n",
    "    query_embedding = embedder.encode([query], convert_to_tensor=True)\n",
    "    cos_scores = cosine_similarity(query_embedding.cpu().numpy(), doc_embeddings.cpu().numpy())[0]\n",
    "    top_indices = np.argsort(cos_scores)[::-1][:top_k]\n",
    "    retrieved_docs = [representations[i] for i in top_indices]\n",
    "    return retrieved_docs"
   ]
  },
  {
   "cell_type": "markdown",
   "metadata": {},
   "source": [
    "# ----------------------------\n",
    "# 5. LLM for Final Answer Generation (Streamlined Prompt)\n",
    "# ----------------------------"
   ]
  },
  {
   "cell_type": "code",
   "execution_count": 6,
   "metadata": {},
   "outputs": [
    {
     "name": "stderr",
     "output_type": "stream",
     "text": [
      "Device set to use cpu\n"
     ]
    }
   ],
   "source": [
    "generator = pipeline(\"text-generation\", model=\"gpt2\", max_length=150)\n",
    "\n",
    "def generate_final_answer(query):\n",
    "    retrieved_docs = retrieve_documents(query, top_k=3)\n",
    "    # Build a clean prompt without repeating extraneous information.\n",
    "    prompt = \"Travel Data:\\n\" + \"\\n\".join(retrieved_docs) + \"\\n\\n\"\n",
    "    prompt += f\"Question: {query}\\nAnswer:\"\n",
    "    result = generator(prompt, max_length=150, num_return_sequences=1)\n",
    "    generated_text = result[0][\"generated_text\"]\n",
    "    # Remove the prompt from the output.\n",
    "    answer = generated_text.replace(prompt, \"\").strip()\n",
    "    # Optionally, split and take the first line if it contains extra information.\n",
    "    answer = answer.split(\"\\n\")[0].strip()\n",
    "    return answer\n"
   ]
  },
  {
   "cell_type": "markdown",
   "metadata": {},
   "source": [
    "# ----------------------------\n",
    "# 6. Process Sample Questions and Save to CSV\n",
    "# ----------------------------"
   ]
  },
  {
   "cell_type": "code",
   "execution_count": 7,
   "metadata": {},
   "outputs": [
    {
     "name": "stderr",
     "output_type": "stream",
     "text": [
      "Truncation was not explicitly activated but `max_length` is provided a specific value, please use `truncation=True` to explicitly truncate examples to max length. Defaulting to 'longest_first' truncation strategy. If you encode pairs of sequences (GLUE-style) with the tokenizer you can select this strategy more precisely by providing a specific strategy to `truncation`.\n",
      "Setting `pad_token_id` to `eos_token_id`:50256 for open-end generation.\n",
      "Setting `pad_token_id` to `eos_token_id`:50256 for open-end generation.\n"
     ]
    },
    {
     "name": "stdout",
     "output_type": "stream",
     "text": [
      "Q: What country is Miami in and what are the average travel costs there?\n",
      "A: In Miami, $1.2 billion a year, and in other major cities like Boston, Philadelphia, New York, Chicago (including those\n",
      "-----\n"
     ]
    },
    {
     "name": "stderr",
     "output_type": "stream",
     "text": [
      "Setting `pad_token_id` to `eos_token_id`:50256 for open-end generation.\n"
     ]
    },
    {
     "name": "stdout",
     "output_type": "stream",
     "text": [
      "Q: List cities with sunny weather and affordable flight and hotel costs.\n",
      "A: Answer #2: Sunny days are not generally associated with better flight times for passengers than daytime on average.\n",
      "-----\n"
     ]
    },
    {
     "name": "stderr",
     "output_type": "stream",
     "text": [
      "Setting `pad_token_id` to `eos_token_id`:50256 for open-end generation.\n"
     ]
    },
    {
     "name": "stdout",
     "output_type": "stream",
     "text": [
      "Q: What is the average flight cost to Paris?\n",
      "A: $60,000 (including the cost of a plane ticket to Paris from Sydney to Sydney airport), $40,000 for a ticket to Boston, $9,000 with a flight\n",
      "-----\n"
     ]
    },
    {
     "name": "stderr",
     "output_type": "stream",
     "text": [
      "Setting `pad_token_id` to `eos_token_id`:50256 for open-end generation.\n"
     ]
    },
    {
     "name": "stdout",
     "output_type": "stream",
     "text": [
      "Q: Which city offers last-minute travel deals?\n",
      "A: First, the city of New London is often called the city of big-name athletes — a city where athletes and their sponsors tend to live, where\n",
      "-----\n"
     ]
    },
    {
     "name": "stderr",
     "output_type": "stream",
     "text": [
      "Setting `pad_token_id` to `eos_token_id`:50256 for open-end generation.\n"
     ]
    },
    {
     "name": "stdout",
     "output_type": "stream",
     "text": [
      "Q: Find restaurants in New York with high ratings.\n",
      "A: I found their Yelp search results the fastest. They had 30,000 reviews. If we put a number of reviews into the list,\n",
      "-----\n"
     ]
    },
    {
     "name": "stderr",
     "output_type": "stream",
     "text": [
      "Setting `pad_token_id` to `eos_token_id`:50256 for open-end generation.\n"
     ]
    },
    {
     "name": "stdout",
     "output_type": "stream",
     "text": [
      "Q: What is the average hotel cost in Tokyo?\n",
      "A: Hotels on average cost 3.5 times as much as hotels in any other region.\n",
      "-----\n"
     ]
    },
    {
     "name": "stderr",
     "output_type": "stream",
     "text": [
      "Setting `pad_token_id` to `eos_token_id`:50256 for open-end generation.\n"
     ]
    },
    {
     "name": "stdout",
     "output_type": "stream",
     "text": [
      "Q: Which flight provides the best balance of cost and travel time?\n",
      "A: The same thing as the Customer Service. The best balance of travel time could mean different benefits to each flight. (For example, a JetBlue\n",
      "-----\n"
     ]
    },
    {
     "name": "stderr",
     "output_type": "stream",
     "text": [
      "Setting `pad_token_id` to `eos_token_id`:50256 for open-end generation.\n"
     ]
    },
    {
     "name": "stdout",
     "output_type": "stream",
     "text": [
      "Q: List cities with rainy weather.\n",
      "A: I live in Perth and Brisbane. For Australia's driest part of the month, I live in Perth and the west. My question about rain in Perth\n",
      "-----\n"
     ]
    },
    {
     "name": "stderr",
     "output_type": "stream",
     "text": [
      "Setting `pad_token_id` to `eos_token_id`:50256 for open-end generation.\n"
     ]
    },
    {
     "name": "stdout",
     "output_type": "stream",
     "text": [
      "Q: What are common user travel preferences?\n",
      "A: Use this as a starting point as you look at some of the other options below.\n",
      "-----\n"
     ]
    },
    {
     "name": "stderr",
     "output_type": "stream",
     "text": [
      "Setting `pad_token_id` to `eos_token_id`:50256 for open-end generation.\n"
     ]
    },
    {
     "name": "stdout",
     "output_type": "stream",
     "text": [
      "Q: Which city has a high cultural score and low hotel cost?\n",
      "A: The number of foreign nationals in Mexico is about a hundred thousand higher than the highest cities in the nation, though that is probably due to the higher\n",
      "-----\n"
     ]
    },
    {
     "name": "stderr",
     "output_type": "stream",
     "text": [
      "Setting `pad_token_id` to `eos_token_id`:50256 for open-end generation.\n"
     ]
    },
    {
     "name": "stdout",
     "output_type": "stream",
     "text": [
      "Q: Find flights departing from New York with low average cost.\n",
      "A: Find on the internet, you can find more detailed information on it. You will receive a list of flights for your trip for a fee (which you will\n",
      "-----\n"
     ]
    },
    {
     "name": "stderr",
     "output_type": "stream",
     "text": [
      "Setting `pad_token_id` to `eos_token_id`:50256 for open-end generation.\n"
     ]
    },
    {
     "name": "stdout",
     "output_type": "stream",
     "text": [
      "Q: Which hotel in Paris has the best reviews?\n",
      "A: The Michelin starren of Paris Hilton, Nicole Henry, writes the most frequently and enjoys the best reviews of most restaurants in the Parisian town. She also points out\n",
      "-----\n"
     ]
    },
    {
     "name": "stderr",
     "output_type": "stream",
     "text": [
      "Setting `pad_token_id` to `eos_token_id`:50256 for open-end generation.\n"
     ]
    },
    {
     "name": "stdout",
     "output_type": "stream",
     "text": [
      "Q: List restaurants in San Francisco with a rating above 4.5.\n",
      "A: Restaurant in San Francisco with rated above 3 is actually the Golden Gate Bridge in San Francisco. If you do\n",
      "-----\n"
     ]
    },
    {
     "name": "stderr",
     "output_type": "stream",
     "text": [
      "Setting `pad_token_id` to `eos_token_id`:50256 for open-end generation.\n"
     ]
    },
    {
     "name": "stdout",
     "output_type": "stream",
     "text": [
      "Q: Which city in Europe is known for its sunny weather?\n",
      "A: Paris (the Netherlands); the French capital of Paris (France); and the German city of Dresden. Which cities in Europe do you think there\n",
      "-----\n"
     ]
    },
    {
     "name": "stderr",
     "output_type": "stream",
     "text": [
      "Setting `pad_token_id` to `eos_token_id`:50256 for open-end generation.\n"
     ]
    },
    {
     "name": "stdout",
     "output_type": "stream",
     "text": [
      "Q: Find travel options for budget-conscious travelers.\n",
      "A: A map and user interface for budget travelers that are open to the public is available at https://www.travelfinance.com/guide/\n",
      "-----\n"
     ]
    },
    {
     "name": "stderr",
     "output_type": "stream",
     "text": [
      "Setting `pad_token_id` to `eos_token_id`:50256 for open-end generation.\n"
     ]
    },
    {
     "name": "stdout",
     "output_type": "stream",
     "text": [
      "Q: Which user has expressed interest in cultural attractions?\n",
      "A: The following UserID may represent: 1. a. p.m. in Ottawa; b. l. p.m. in Toronto and Vancouver\n",
      "-----\n"
     ]
    },
    {
     "name": "stderr",
     "output_type": "stream",
     "text": [
      "Setting `pad_token_id` to `eos_token_id`:50256 for open-end generation.\n"
     ]
    },
    {
     "name": "stdout",
     "output_type": "stream",
     "text": [
      "Q: List cities with a high average flight cost.\n",
      "A: City: Oakland\n",
      "-----\n"
     ]
    },
    {
     "name": "stderr",
     "output_type": "stream",
     "text": [
      "Setting `pad_token_id` to `eos_token_id`:50256 for open-end generation.\n"
     ]
    },
    {
     "name": "stdout",
     "output_type": "stream",
     "text": [
      "Q: Which flight has the shortest travel time?\n",
      "A: No flight leaves the airport at 35 minutes or less.\n",
      "-----\n"
     ]
    },
    {
     "name": "stderr",
     "output_type": "stream",
     "text": [
      "Setting `pad_token_id` to `eos_token_id`:50256 for open-end generation.\n"
     ]
    },
    {
     "name": "stdout",
     "output_type": "stream",
     "text": [
      "Q: Find hotels with an average cost below $100.\n",
      "A: We are unable to offer this price on the website or at the hotels. We do not want to discourage you from taking this journey.\n",
      "-----\n"
     ]
    },
    {
     "name": "stderr",
     "output_type": "stream",
     "text": [
      "Setting `pad_token_id` to `eos_token_id`:50256 for open-end generation.\n"
     ]
    },
    {
     "name": "stdout",
     "output_type": "stream",
     "text": [
      "Q: Which restaurant in Rome is best known for its authentic cuisine?\n",
      "A: Question: What are some of the best Italian restaurants in Rome? Answer:\n",
      "-----\n"
     ]
    },
    {
     "name": "stderr",
     "output_type": "stream",
     "text": [
      "Setting `pad_token_id` to `eos_token_id`:50256 for open-end generation.\n"
     ]
    },
    {
     "name": "stdout",
     "output_type": "stream",
     "text": [
      "Q: List all cities offering last-minute deals.\n",
      "A: You may try listing each in the order on which you want to list.\n",
      "-----\n"
     ]
    },
    {
     "name": "stderr",
     "output_type": "stream",
     "text": [
      "Setting `pad_token_id` to `eos_token_id`:50256 for open-end generation.\n"
     ]
    },
    {
     "name": "stdout",
     "output_type": "stream",
     "text": [
      "Q: What is the average hotel cost in New York?\n",
      "A: This is based on the best experience. The average hotel cost in New York includes everything from general admission ticket prices to reservations and rooms. The average hotel costs in\n",
      "-----\n"
     ]
    },
    {
     "name": "stderr",
     "output_type": "stream",
     "text": [
      "Setting `pad_token_id` to `eos_token_id`:50256 for open-end generation.\n"
     ]
    },
    {
     "name": "stdout",
     "output_type": "stream",
     "text": [
      "Q: Which city has the highest cultural score?\n",
      "A: Chicago\n",
      "-----\n"
     ]
    },
    {
     "name": "stderr",
     "output_type": "stream",
     "text": [
      "Setting `pad_token_id` to `eos_token_id`:50256 for open-end generation.\n"
     ]
    },
    {
     "name": "stdout",
     "output_type": "stream",
     "text": [
      "Q: Find flights with the best customer reviews.\n",
      "A: We only get a good few on Yelp, but they offer a lot of reviews that are good for you, just because you're on a business trip. Also\n",
      "-----\n"
     ]
    },
    {
     "name": "stderr",
     "output_type": "stream",
     "text": [
      "Setting `pad_token_id` to `eos_token_id`:50256 for open-end generation.\n"
     ]
    },
    {
     "name": "stdout",
     "output_type": "stream",
     "text": [
      "Q: Which hotel offers the best value for money in London?\n",
      "A: On top of the free hotel stay which is not available in New York or anywhere else, if you have a valid ticket for London, check the ticket\n",
      "-----\n"
     ]
    },
    {
     "name": "stderr",
     "output_type": "stream",
     "text": [
      "Setting `pad_token_id` to `eos_token_id`:50256 for open-end generation.\n"
     ]
    },
    {
     "name": "stdout",
     "output_type": "stream",
     "text": [
      "Q: List restaurants with diverse cuisine options in Los Angeles.\n",
      "A: In all our restaurants throughout the Southern California area we only require a very simple kitchen.\n",
      "-----\n"
     ]
    },
    {
     "name": "stderr",
     "output_type": "stream",
     "text": [
      "Setting `pad_token_id` to `eos_token_id`:50256 for open-end generation.\n"
     ]
    },
    {
     "name": "stdout",
     "output_type": "stream",
     "text": [
      "Q: Which flight is most popular among users?\n",
      "A: Flight Name:\n",
      "-----\n"
     ]
    },
    {
     "name": "stderr",
     "output_type": "stream",
     "text": [
      "Setting `pad_token_id` to `eos_token_id`:50256 for open-end generation.\n"
     ]
    },
    {
     "name": "stdout",
     "output_type": "stream",
     "text": [
      "Q: Find cities with both low flight and hotel costs.\n",
      "A: Example:\n",
      "-----\n"
     ]
    },
    {
     "name": "stderr",
     "output_type": "stream",
     "text": [
      "Setting `pad_token_id` to `eos_token_id`:50256 for open-end generation.\n"
     ]
    },
    {
     "name": "stdout",
     "output_type": "stream",
     "text": [
      "Q: Which restaurant has the highest rating overall?\n",
      "A: Question: How many times did I receive your email requesting an autograph in my shop?\n",
      "-----\n"
     ]
    },
    {
     "name": "stderr",
     "output_type": "stream",
     "text": [
      "Setting `pad_token_id` to `eos_token_id`:50256 for open-end generation.\n"
     ]
    },
    {
     "name": "stdout",
     "output_type": "stream",
     "text": [
      "Q: List travel options for luxury seekers.\n",
      "A: All options are listed.\n",
      "-----\n"
     ]
    },
    {
     "name": "stderr",
     "output_type": "stream",
     "text": [
      "Setting `pad_token_id` to `eos_token_id`:50256 for open-end generation.\n"
     ]
    },
    {
     "name": "stdout",
     "output_type": "stream",
     "text": [
      "Q: Which city is known for its diverse cultural heritage?\n",
      "A: Miami, FL\n",
      "-----\n"
     ]
    },
    {
     "name": "stderr",
     "output_type": "stream",
     "text": [
      "Setting `pad_token_id` to `eos_token_id`:50256 for open-end generation.\n"
     ]
    },
    {
     "name": "stdout",
     "output_type": "stream",
     "text": [
      "Q: Find budget hotels in Miami.\n",
      "A: Look into the reports.\n",
      "-----\n"
     ]
    },
    {
     "name": "stderr",
     "output_type": "stream",
     "text": [
      "Setting `pad_token_id` to `eos_token_id`:50256 for open-end generation.\n"
     ]
    },
    {
     "name": "stdout",
     "output_type": "stream",
     "text": [
      "Q: Which flight has the best on-time performance?\n",
      "A: Boeing 737-800 for flight 3 at 1137 am and Boeing 777-200 for flight 16 at 909 am\n",
      "-----\n"
     ]
    },
    {
     "name": "stderr",
     "output_type": "stream",
     "text": [
      "Setting `pad_token_id` to `eos_token_id`:50256 for open-end generation.\n"
     ]
    },
    {
     "name": "stdout",
     "output_type": "stream",
     "text": [
      "Q: List restaurants that are popular among locals.\n",
      "A: The list was originally developed from a data set about the restaurants visited by locals and not of the locals who are served. We now know that it was compiled with information on\n",
      "-----\n"
     ]
    },
    {
     "name": "stderr",
     "output_type": "stream",
     "text": [
      "Setting `pad_token_id` to `eos_token_id`:50256 for open-end generation.\n"
     ]
    },
    {
     "name": "stdout",
     "output_type": "stream",
     "text": [
      "Q: Which city offers the best combination of weather and cultural attractions?\n",
      "A: Chicago is in the North-Central region with the best amount of traffic in the city.\n",
      "-----\n"
     ]
    },
    {
     "name": "stderr",
     "output_type": "stream",
     "text": [
      "Setting `pad_token_id` to `eos_token_id`:50256 for open-end generation.\n"
     ]
    },
    {
     "name": "stdout",
     "output_type": "stream",
     "text": [
      "Q: Find flights that operate internationally with low cost.\n",
      "A: See my question below\n",
      "-----\n"
     ]
    },
    {
     "name": "stderr",
     "output_type": "stream",
     "text": [
      "Setting `pad_token_id` to `eos_token_id`:50256 for open-end generation.\n"
     ]
    },
    {
     "name": "stdout",
     "output_type": "stream",
     "text": [
      "Q: Which hotel in Tokyo is recommended for business travelers?\n",
      "A: I am traveling mainly for business. A good place is the Hyena Hotel in Osaka. For the latest version of the database\n",
      "-----\n"
     ]
    },
    {
     "name": "stderr",
     "output_type": "stream",
     "text": [
      "Setting `pad_token_id` to `eos_token_id`:50256 for open-end generation.\n"
     ]
    },
    {
     "name": "stdout",
     "output_type": "stream",
     "text": [
      "Q: List cities with high tourist satisfaction ratings.\n",
      "A: City: San Antonio\n",
      "-----\n"
     ]
    },
    {
     "name": "stderr",
     "output_type": "stream",
     "text": [
      "Setting `pad_token_id` to `eos_token_id`:50256 for open-end generation.\n"
     ]
    },
    {
     "name": "stdout",
     "output_type": "stream",
     "text": [
      "Q: Which restaurant offers the best outdoor dining experience?\n",
      "A: The following are our top five choices for restaurant-themed outdoor dining.\n",
      "-----\n"
     ]
    },
    {
     "name": "stderr",
     "output_type": "stream",
     "text": [
      "Setting `pad_token_id` to `eos_token_id`:50256 for open-end generation.\n"
     ]
    },
    {
     "name": "stdout",
     "output_type": "stream",
     "text": [
      "Q: Find travel options that emphasize eco-friendly practices.\n",
      "A: Many people use the hashtag #visitorcare to share interesting information and information to help people get the most from the different programs.\n",
      "-----\n"
     ]
    },
    {
     "name": "stderr",
     "output_type": "stream",
     "text": [
      "Setting `pad_token_id` to `eos_token_id`:50256 for open-end generation.\n"
     ]
    },
    {
     "name": "stdout",
     "output_type": "stream",
     "text": [
      "Q: Which flight offers flexible cancellation policies?\n",
      "A: From the Customer Data Center:\n",
      "-----\n"
     ]
    },
    {
     "name": "stderr",
     "output_type": "stream",
     "text": [
      "Setting `pad_token_id` to `eos_token_id`:50256 for open-end generation.\n"
     ]
    },
    {
     "name": "stdout",
     "output_type": "stream",
     "text": [
      "Q: List hotels that have received awards for service excellence.\n",
      "A: Yes!\n",
      "-----\n"
     ]
    },
    {
     "name": "stderr",
     "output_type": "stream",
     "text": [
      "Setting `pad_token_id` to `eos_token_id`:50256 for open-end generation.\n"
     ]
    },
    {
     "name": "stdout",
     "output_type": "stream",
     "text": [
      "Q: Which city has the best public transportation system for tourists?\n",
      "A: Toronto, BC's (Merrill, NJ), Toronto West, Toronto West West, Toronto West East are both public transit systems along the shore of Lake\n",
      "-----\n"
     ]
    },
    {
     "name": "stderr",
     "output_type": "stream",
     "text": [
      "Setting `pad_token_id` to `eos_token_id`:50256 for open-end generation.\n"
     ]
    },
    {
     "name": "stdout",
     "output_type": "stream",
     "text": [
      "Q: Find restaurants that offer vegan options.\n",
      "A: To avoid confusion with this question, we have included a link to our database of restaurants that have vegan menus.\n",
      "-----\n"
     ]
    },
    {
     "name": "stderr",
     "output_type": "stream",
     "text": [
      "Setting `pad_token_id` to `eos_token_id`:50256 for open-end generation.\n"
     ]
    },
    {
     "name": "stdout",
     "output_type": "stream",
     "text": [
      "Q: Which hotel in Paris offers the most affordable luxury experience?\n",
      "A: Not sure I'm going to answer that one, though I wouldn't say that I'm too old to be able to offer those. What I\n",
      "-----\n"
     ]
    },
    {
     "name": "stderr",
     "output_type": "stream",
     "text": [
      "Setting `pad_token_id` to `eos_token_id`:50256 for open-end generation.\n"
     ]
    },
    {
     "name": "stdout",
     "output_type": "stream",
     "text": [
      "Q: List cities with a growing number of international flights.\n",
      "A: As for US cities, this includes NYC, Minneapolis, San Francisco, Raleigh-Durham, Newark-Saras\n",
      "-----\n"
     ]
    },
    {
     "name": "stderr",
     "output_type": "stream",
     "text": [
      "Setting `pad_token_id` to `eos_token_id`:50256 for open-end generation.\n"
     ]
    },
    {
     "name": "stdout",
     "output_type": "stream",
     "text": [
      "Q: Which flight offers the best connectivity between major hubs?\n",
      "A: Seattle (2nd most congested, 2nd most landlocked) versus Dallas and Portland (3rd least congested, 3rd least landlocked).\n",
      "-----\n"
     ]
    },
    {
     "name": "stderr",
     "output_type": "stream",
     "text": [
      "Setting `pad_token_id` to `eos_token_id`:50256 for open-end generation.\n"
     ]
    },
    {
     "name": "stdout",
     "output_type": "stream",
     "text": [
      "Q: Find travel packages that include both flight and hotel discounts.\n",
      "A: We have several, but we aren't looking at flights you can get or hotel discounts.\n",
      "-----\n"
     ]
    },
    {
     "name": "stderr",
     "output_type": "stream",
     "text": [
      "Setting `pad_token_id` to `eos_token_id`:50256 for open-end generation.\n"
     ]
    },
    {
     "name": "stdout",
     "output_type": "stream",
     "text": [
      "Q: Which city has the best nightlife for travelers?\n",
      "A: Minneapolis Minneapolis Minneapolis\n",
      "-----\n",
      "Q: Find budget-friendly restaurants in Chicago.\n",
      "A: Chicago is known for a lot of high quality food: it has a lot of good restaurants (like the $27.99 Chicken Fried Chicken and $36.\n",
      "-----\n",
      "CSV file 'generated_travel_queries.csv' created with question-answer pairs.\n"
     ]
    }
   ],
   "source": [
    "sample_questions = [\n",
    "    \"What country is Miami in and what are the average travel costs there?\",\n",
    "    \"List cities with sunny weather and affordable flight and hotel costs.\",\n",
    "    \"What is the average flight cost to Paris?\",\n",
    "    \"Which city offers last-minute travel deals?\",\n",
    "    \"Find restaurants in New York with high ratings.\",\n",
    "    \"What is the average hotel cost in Tokyo?\",\n",
    "    \"Which flight provides the best balance of cost and travel time?\",\n",
    "    \"List cities with rainy weather.\",\n",
    "    \"What are common user travel preferences?\",\n",
    "    \"Which city has a high cultural score and low hotel cost?\",\n",
    "    \"Find flights departing from New York with low average cost.\",\n",
    "    \"Which hotel in Paris has the best reviews?\",\n",
    "    \"List restaurants in San Francisco with a rating above 4.5.\",\n",
    "    \"Which city in Europe is known for its sunny weather?\",\n",
    "    \"Find travel options for budget-conscious travelers.\",\n",
    "    \"Which user has expressed interest in cultural attractions?\",\n",
    "    \"List cities with a high average flight cost.\",\n",
    "    \"Which flight has the shortest travel time?\",\n",
    "    \"Find hotels with an average cost below $100.\",\n",
    "    \"Which restaurant in Rome is best known for its authentic cuisine?\",\n",
    "    \"List all cities offering last-minute deals.\",\n",
    "    \"What is the average hotel cost in New York?\",\n",
    "    \"Which city has the highest cultural score?\",\n",
    "    \"Find flights with the best customer reviews.\",\n",
    "    \"Which hotel offers the best value for money in London?\",\n",
    "    \"List restaurants with diverse cuisine options in Los Angeles.\",\n",
    "    \"Which flight is most popular among users?\",\n",
    "    \"Find cities with both low flight and hotel costs.\",\n",
    "    \"Which restaurant has the highest rating overall?\",\n",
    "    \"List travel options for luxury seekers.\",\n",
    "    \"Which city is known for its diverse cultural heritage?\",\n",
    "    \"Find budget hotels in Miami.\",\n",
    "    \"Which flight has the best on-time performance?\",\n",
    "    \"List restaurants that are popular among locals.\",\n",
    "    \"Which city offers the best combination of weather and cultural attractions?\",\n",
    "    \"Find flights that operate internationally with low cost.\",\n",
    "    \"Which hotel in Tokyo is recommended for business travelers?\",\n",
    "    \"List cities with high tourist satisfaction ratings.\",\n",
    "    \"Which restaurant offers the best outdoor dining experience?\",\n",
    "    \"Find travel options that emphasize eco-friendly practices.\",\n",
    "    \"Which flight offers flexible cancellation policies?\",\n",
    "    \"List hotels that have received awards for service excellence.\",\n",
    "    \"Which city has the best public transportation system for tourists?\",\n",
    "    \"Find restaurants that offer vegan options.\",\n",
    "    \"Which hotel in Paris offers the most affordable luxury experience?\",\n",
    "    \"List cities with a growing number of international flights.\",\n",
    "    \"Which flight offers the best connectivity between major hubs?\",\n",
    "    \"Find travel packages that include both flight and hotel discounts.\",\n",
    "    \"Which city has the best nightlife for travelers?\",\n",
    "    \"Find budget-friendly restaurants in Chicago.\"\n",
    "]\n",
    "\n",
    "output_rows = []\n",
    "for q in sample_questions:\n",
    "    answer = generate_final_answer(q)\n",
    "    output_rows.append({\"Question\": q, \"Answer\": answer})\n",
    "    print(\"Q:\", q)\n",
    "    print(\"A:\", answer)\n",
    "    print(\"-----\")\n",
    "\n",
    "results_df = pd.DataFrame(output_rows)\n",
    "results_df.to_csv(\"generated_travel_queries.csv\", index=False)\n",
    "print(\"CSV file 'generated_travel_queries.csv' created with question-answer pairs.\")\n",
    "\n",
    "# Close the Neo4j driver\n",
    "driver.close()\n"
   ]
  }
 ],
 "metadata": {
  "kernelspec": {
   "display_name": "hf_env",
   "language": "python",
   "name": "python3"
  },
  "language_info": {
   "codemirror_mode": {
    "name": "ipython",
    "version": 3
   },
   "file_extension": ".py",
   "mimetype": "text/x-python",
   "name": "python",
   "nbconvert_exporter": "python",
   "pygments_lexer": "ipython3",
   "version": "3.11.11"
  }
 },
 "nbformat": 4,
 "nbformat_minor": 2
}
