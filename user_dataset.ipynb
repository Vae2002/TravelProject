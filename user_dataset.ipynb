{
 "cells": [
  {
   "cell_type": "code",
   "execution_count": 46,
   "metadata": {},
   "outputs": [],
   "source": [
    "# import pandas as pd\n",
    "# import random\n",
    "# # !pip install faker\n",
    "# from faker import Faker\n",
    "# import uuid"
   ]
  },
  {
   "cell_type": "code",
   "execution_count": 47,
   "metadata": {},
   "outputs": [],
   "source": [
    "# # Initialize Faker\n",
    "# faker = Faker()\n",
    "\n",
    "# # Number of users\n",
    "# num_users = 100\n",
    "\n",
    "# # Generate Users dataset\n",
    "# users = []\n",
    "# user_ids = set()\n",
    "\n",
    "# for _ in range(num_users):\n",
    "#     user_id = str(uuid.uuid4())  # Generate unique user ID\n",
    "#     while user_id in user_ids:\n",
    "#         user_id = str(uuid.uuid4())  # Ensure uniqueness\n",
    "#     user_ids.add(user_id)\n",
    "\n",
    "#     users.append({\n",
    "#         \"User_ID\": user_id,\n",
    "#         \"Username\": faker.user_name(),\n",
    "#         \"City\": faker.city(),\n",
    "#         \"Reviews\": random.choice([\"Good\", \"Average\", \"Bad\", \"Excellent\", \"None\"]),\n",
    "#         \"Travel_History\": random.sample([\"Paris\", \"London\", \"New York\", \"Tokyo\", \"Berlin\", \"Dubai\"], random.randint(1, 3))\n",
    "#     })\n",
    "\n",
    "# df = pd.DataFrame(users)"
   ]
  },
  {
   "cell_type": "code",
   "execution_count": 48,
   "metadata": {},
   "outputs": [],
   "source": [
    "import pandas as pd \n",
    "\n",
    "df_flights = pd.read_csv(\"converted_datasets/flights_new.csv\", encoding=\"utf-8\", encoding_errors=\"replace\") "
   ]
  },
  {
   "cell_type": "code",
   "execution_count": 49,
   "metadata": {},
   "outputs": [
    {
     "name": "stdout",
     "output_type": "stream",
     "text": [
      "                                 user_id         Username           City  \\\n",
      "0   USER9f397d29dcec4bc093ad0a20e168677a    medinamatthew        Barisal   \n",
      "1   USER037c038b145e48388005fd13fb6fbe97           john71     Chittagong   \n",
      "2   USER4d23423f70344860987ee453232c534d         ashley67       Rajshahi   \n",
      "3   USER3d1fae264fb140659c33d547765918db    garrisondavid       Rajshahi   \n",
      "4   USER4b9845cfc3894526ad638d6c0edbb0c6  burgesskimberly       Rajshahi   \n",
      "..                                   ...              ...            ...   \n",
      "95  USER2e02af0116d2431eb58a631f596ca3b2   hernandezjason        Barisal   \n",
      "96  USERec69294119eb4547963a3788095409cc   lambertmarissa        Jessore   \n",
      "97  USERfdbe2179f2a54100872e80321db88d44         jordan52  Sylhet Osmani   \n",
      "98  USERf7bfb575acb64009a89a69530e36abb4        rileyleah     Chittagong   \n",
      "99  USERacc10f2341154009b0d290347371c8dc      hammondsara        Jessore   \n",
      "\n",
      "       Country Issued_Passport  \n",
      "0   Bangladesh      Bangladesh  \n",
      "1   Bangladesh      Bangladesh  \n",
      "2   Bangladesh      Bangladesh  \n",
      "3   Bangladesh      Bangladesh  \n",
      "4   Bangladesh      Bangladesh  \n",
      "..         ...             ...  \n",
      "95  Bangladesh      Bangladesh  \n",
      "96  Bangladesh      Bangladesh  \n",
      "97  Bangladesh      Bangladesh  \n",
      "98  Bangladesh      Bangladesh  \n",
      "99  Bangladesh      Bangladesh  \n",
      "\n",
      "[100 rows x 5 columns]\n"
     ]
    }
   ],
   "source": [
    "from faker import Faker\n",
    "import uuid\n",
    "import pandas as pd\n",
    "import random\n",
    "\n",
    "# Initialize Faker\n",
    "faker = Faker()\n",
    "\n",
    "# Number of users\n",
    "num_users = 100\n",
    "\n",
    "# Ensure df_flights has \"City Dep\" data\n",
    "if \"City Dep\" not in df_flights.columns or \"Country Dep\" not in df_flights.columns:\n",
    "    raise ValueError(\"df_flights must have 'City Dep' and 'Country Dep' columns\")\n",
    "\n",
    "# Get unique departure cities and their countries from flight data\n",
    "city_country_mapping = df_flights[[\"City Dep\", \"Country Dep\"]].dropna().drop_duplicates().set_index(\"City Dep\")[\"Country Dep\"].to_dict()\n",
    "\n",
    "# Generate Users dataset\n",
    "users = []\n",
    "user_ids = set()\n",
    "\n",
    "for _ in range(num_users):\n",
    "    user_id = \"USER\" + uuid.uuid4().hex  \n",
    "    while user_id in user_ids:\n",
    "        user_id = \"USER\" + uuid.uuid4().hex  \n",
    "    user_ids.add(user_id)\n",
    "\n",
    "    # Select a random city from \"City Dep\"\n",
    "    city = random.choice(list(city_country_mapping.keys()))\n",
    "    country = city_country_mapping[city]  # Get corresponding country\n",
    "\n",
    "    # Choose a passport country (85% same, 15% from another user's country)\n",
    "    if random.random() < 0.85 or not users:  \n",
    "        passport_country = country\n",
    "    else:\n",
    "        passport_country = random.choice([user[\"Country\"] for user in users])\n",
    "\n",
    "    # Add user data to list\n",
    "    users.append({\n",
    "        \"user_id\": user_id,\n",
    "        \"Username\": faker.user_name(),\n",
    "        \"City\": city,\n",
    "        \"Country\": country,\n",
    "        \"Issued_Passport\": passport_country\n",
    "    })\n",
    "\n",
    "# Create DataFrame\n",
    "df_users = pd.DataFrame(users)\n",
    "\n",
    "print(df_users)"
   ]
  },
  {
   "cell_type": "code",
   "execution_count": 50,
   "metadata": {},
   "outputs": [
    {
     "name": "stdout",
     "output_type": "stream",
     "text": [
      "CSV file saved successfully at: adjusted_datasets\\users.csv\n"
     ]
    }
   ],
   "source": [
    "import os\n",
    "\n",
    "# Define the folder path\n",
    "folder_path = \"adjusted_datasets\"\n",
    "\n",
    "# Ensure the folder exists\n",
    "os.makedirs(folder_path, exist_ok=True)\n",
    "\n",
    "# Define the full file path\n",
    "file_path = os.path.join(folder_path, \"users.csv\")\n",
    "\n",
    "# Save the DataFrame as a CSV file\n",
    "df.to_csv(file_path, index=False, encoding='utf-8')\n",
    "\n",
    "print(f\"CSV file saved successfully at: {file_path}\")"
   ]
  }
 ],
 "metadata": {
  "kernelspec": {
   "display_name": "Python 3",
   "language": "python",
   "name": "python3"
  },
  "language_info": {
   "codemirror_mode": {
    "name": "ipython",
    "version": 3
   },
   "file_extension": ".py",
   "mimetype": "text/x-python",
   "name": "python",
   "nbconvert_exporter": "python",
   "pygments_lexer": "ipython3",
   "version": "3.12.0"
  }
 },
 "nbformat": 4,
 "nbformat_minor": 2
}
