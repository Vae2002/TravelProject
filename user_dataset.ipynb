{
 "cells": [
  {
   "cell_type": "code",
   "execution_count": 14,
   "metadata": {},
   "outputs": [],
   "source": [
    "# import pandas as pd\n",
    "# import random\n",
    "# # !pip install faker\n",
    "# from faker import Faker\n",
    "# import uuid"
   ]
  },
  {
   "cell_type": "code",
   "execution_count": 15,
   "metadata": {},
   "outputs": [],
   "source": [
    "# # Initialize Faker\n",
    "# faker = Faker()\n",
    "\n",
    "# # Number of users\n",
    "# num_users = 100\n",
    "\n",
    "# # Generate Users dataset\n",
    "# users = []\n",
    "# user_ids = set()\n",
    "\n",
    "# for _ in range(num_users):\n",
    "#     user_id = str(uuid.uuid4())  # Generate unique user ID\n",
    "#     while user_id in user_ids:\n",
    "#         user_id = str(uuid.uuid4())  # Ensure uniqueness\n",
    "#     user_ids.add(user_id)\n",
    "\n",
    "#     users.append({\n",
    "#         \"User_ID\": user_id,\n",
    "#         \"Username\": faker.user_name(),\n",
    "#         \"City\": faker.city(),\n",
    "#         \"Reviews\": random.choice([\"Good\", \"Average\", \"Bad\", \"Excellent\", \"None\"]),\n",
    "#         \"Travel_History\": random.sample([\"Paris\", \"London\", \"New York\", \"Tokyo\", \"Berlin\", \"Dubai\"], random.randint(1, 3))\n",
    "#     })\n",
    "\n",
    "# df = pd.DataFrame(users)"
   ]
  },
  {
   "cell_type": "code",
   "execution_count": 16,
   "metadata": {},
   "outputs": [
    {
     "name": "stdout",
     "output_type": "stream",
     "text": [
      "                                 User_ID           Username  \\\n",
      "0   USERbf5f5d0c220949f3a36ee6fba1479633            grace96   \n",
      "1   USER754910b5b7504b75a25fa7c9e5cc007c  richardsonpatrick   \n",
      "2   USER40d9cd876f924fddb89db7de08910951            snelson   \n",
      "3   USERb3c45d4ffc284cdd96d174c6d6dbdb6e            awilson   \n",
      "4   USER442f7eff09e64c6d9f82209464a67e8f     brittanyhodges   \n",
      "..                                   ...                ...   \n",
      "95  USER86e312bc4aa94ac6af3d8cd2a86eca9a            ywright   \n",
      "96  USERb8a10525527941e998e8e95ad997943b        harrisdiana   \n",
      "97  USERb6483a5088ea4fe49cbe84459fdfea12   castillojennifer   \n",
      "98  USER020debfd1bbe440db82e7abefa51ed54      wilsonkenneth   \n",
      "99  USER320454b57081452b8b320eebeb615449          jeffery44   \n",
      "\n",
      "                   City   Country Issued_Passport  \n",
      "0       Lake Anitamouth    Poland          Poland  \n",
      "1       Schwartzchester    France          France  \n",
      "2         North Gilbert    Greece          Greece  \n",
      "3            Blakeville  Bulgaria        Bulgaria  \n",
      "4         New Elizabeth   Croatia         Croatia  \n",
      "..                  ...       ...             ...  \n",
      "95           Port Kevin    Poland          Poland  \n",
      "96           West Kelly   Germany         Germany  \n",
      "97  South Catherineview   Finland         Finland  \n",
      "98   North Abigailburgh    Poland          Poland  \n",
      "99          Kristenberg     Spain       Guatemala  \n",
      "\n",
      "[100 rows x 5 columns]\n"
     ]
    }
   ],
   "source": [
    "from faker import Faker\n",
    "import uuid\n",
    "import pandas as pd\n",
    "import random\n",
    "\n",
    "# Initialize Faker\n",
    "faker = Faker()\n",
    "\n",
    "# Number of users\n",
    "num_users = 100\n",
    "\n",
    "# European countries (simplified list for demonstration purposes)\n",
    "european_countries = [\n",
    "    \"Germany\", \"France\", \"Italy\", \"Spain\", \"Portugal\", \n",
    "    \"Netherlands\", \"Belgium\", \"Sweden\", \"Norway\", \"Denmark\", \"Finland\", \n",
    "    \"Poland\", \"Austria\", \"Ireland\", \"Greece\", \"Czech Republic\", \n",
    "    \"Hungary\", \"Romania\", \"Bulgaria\", \"Slovakia\", \"Croatia\", \"Slovenia\"\n",
    "]\n",
    "\n",
    "# Generate Users dataset\n",
    "users = []\n",
    "user_ids = set()\n",
    "\n",
    "for _ in range(num_users):\n",
    "    user_id = \"USER\" + uuid.uuid4().hex \n",
    "    while user_id in user_ids:\n",
    "        user_id = \"USER\" + uuid.uuid4().hex\n",
    "    user_ids.add(user_id)\n",
    "    \n",
    "    # Generate a city and derive the country from the city\n",
    "    city = faker.city()\n",
    "    country = random.choice(european_countries)  # Ensure the country is European\n",
    "\n",
    "    # Decide passport country (85% same, 15% different)\n",
    "    passport_country = country if random.random() < 0.85 else faker.country()  # Use Faker's country() for non-European passport country\n",
    "    \n",
    "    # Add user data to list\n",
    "    users.append({\n",
    "        \"User_ID\": user_id,\n",
    "        \"Username\": faker.user_name(),\n",
    "        \"City\": city,\n",
    "        \"Country\": country,\n",
    "        \"Issued_Passport\": passport_country\n",
    "    })\n",
    "\n",
    "# Create DataFrame\n",
    "df = pd.DataFrame(users)\n",
    "\n",
    "print(df)\n"
   ]
  },
  {
   "cell_type": "code",
   "execution_count": 17,
   "metadata": {},
   "outputs": [
    {
     "name": "stdout",
     "output_type": "stream",
     "text": [
      "CSV file saved successfully at: adjusted_datasets\\users.csv\n"
     ]
    }
   ],
   "source": [
    "import os\n",
    "\n",
    "# Define the folder path\n",
    "folder_path = \"adjusted_datasets\"\n",
    "\n",
    "# Ensure the folder exists\n",
    "os.makedirs(folder_path, exist_ok=True)\n",
    "\n",
    "# Define the full file path\n",
    "file_path = os.path.join(folder_path, \"users.csv\")\n",
    "\n",
    "# Save the DataFrame as a CSV file\n",
    "df.to_csv(file_path, index=False, encoding='utf-8')\n",
    "\n",
    "print(f\"CSV file saved successfully at: {file_path}\")"
   ]
  }
 ],
 "metadata": {
  "kernelspec": {
   "display_name": "Python 3",
   "language": "python",
   "name": "python3"
  },
  "language_info": {
   "codemirror_mode": {
    "name": "ipython",
    "version": 3
   },
   "file_extension": ".py",
   "mimetype": "text/x-python",
   "name": "python",
   "nbconvert_exporter": "python",
   "pygments_lexer": "ipython3",
   "version": "3.12.0"
  }
 },
 "nbformat": 4,
 "nbformat_minor": 2
}
