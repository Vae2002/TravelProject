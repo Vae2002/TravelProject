{
 "cells": [
  {
   "cell_type": "code",
   "execution_count": 18,
   "metadata": {},
   "outputs": [],
   "source": [
    "import pandas as pd\n",
    "import random\n",
    "from faker import Faker"
   ]
  },
  {
   "cell_type": "code",
   "execution_count": 19,
   "metadata": {},
   "outputs": [
    {
     "name": "stdout",
     "output_type": "stream",
     "text": [
      "                                 User_ID       Username              City  \\\n",
      "0   596f4539-3a69-4879-af5c-1d88861dc494        kiara19       West Teresa   \n",
      "1   0474a5c8-8fbe-48c3-acb9-8238a01ddb14        frank51     South Brianna   \n",
      "2   91cc3d8d-a0d8-48ff-9be0-5721dd495e52   millerashley        Karenmouth   \n",
      "3   ccd3a3e6-47e8-4a7b-b4d1-e9bb17882ce9  chavezanthony     Alexanderfurt   \n",
      "4   96b48c44-aa67-461c-8524-b52b0e3a3f99     marcushuff         Prattfurt   \n",
      "..                                   ...            ...               ...   \n",
      "95  7130711b-74b2-478c-8f84-4cbead686ccb         mark89      South Joshua   \n",
      "96  fc1f2793-5303-430d-8d14-f5d9603ad848     wardcarrie     Teresaborough   \n",
      "97  4700bcf4-d2a0-48d4-826e-a66002bd2270       robert23  Port Christopher   \n",
      "98  9f77c117-0d47-4271-82dd-48ec860fdd10      jocelyn76       New William   \n",
      "99  6aea1999-8d76-42de-beea-803e87dc843f       robert12         Davidbury   \n",
      "\n",
      "      Reviews                    Travel_History  \n",
      "0        Good               ['Paris', 'London']  \n",
      "1   Excellent                         ['Paris']  \n",
      "2   Excellent                         ['Paris']  \n",
      "3        Good   ['Berlin', 'New York', 'Dubai']  \n",
      "4     Average  ['Berlin', 'New York', 'London']  \n",
      "..        ...                               ...  \n",
      "95        Bad      ['London', 'Dubai', 'Paris']  \n",
      "96  Excellent                ['Dubai', 'Paris']  \n",
      "97    Average  ['Berlin', 'New York', 'London']  \n",
      "98  Excellent                        ['Berlin']  \n",
      "99       Good              ['Berlin', 'London']  \n",
      "\n",
      "[100 rows x 5 columns]\n"
     ]
    }
   ],
   "source": [
    "df_user = pd.read_csv(\"adjusted_datasets/users.csv\", encoding=\"utf-8\", encoding_errors=\"replace\") \n",
    "print(df_user)"
   ]
  },
  {
   "cell_type": "code",
   "execution_count": 20,
   "metadata": {},
   "outputs": [],
   "source": [
    "# Generate Preferences dataset\n",
    "preferences = []\n",
    "preference_types = [\"Budget\", \"Luxury\", \"Adventure\", \"Culinary\", \"Beach\", \"Culture\"]\n",
    "hotel_chains = [\"Hilton\", \"Marriott\", \"Hyatt\", \"Accor\", \"InterContinental\"]\n",
    "cuisines = [\"Italian\", \"Japanese\", \"Mexican\", \"Indian\", \"French\"]\n",
    "activities = [\"Hiking\", \"Snorkeling\", \"Museum Visits\", \"Shopping\", \"Skiing\"]\n",
    "\n",
    "def random_list_selection(items, max_count=3):\n",
    "    return \", \".join(random.sample(items, random.randint(1, max_count)))\n",
    "\n",
    "for user_id in df_user[\"User_ID\"]:\n",
    "    preferences.append({\n",
    "        \"User_ID\": user_id,\n",
    "        \"Preferred_Type\": random.choice(preference_types),\n",
    "        \"Preferred_Hotel_Chains\": random_list_selection(hotel_chains),\n",
    "        \"Preferred_Cuisines\": random_list_selection(cuisines),\n",
    "        \"Preferred_Activities\": random_list_selection(activities),\n",
    "        \"Bucket_List_Destinations\": random_list_selection([\"Bali\", \"Santorini\", \"Machu Picchu\", \"Sydney\", \"Dubai\"])\n",
    "    })\n",
    "\n",
    "df = pd.DataFrame(preferences)\n"
   ]
  },
  {
   "cell_type": "code",
   "execution_count": 21,
   "metadata": {},
   "outputs": [
    {
     "name": "stdout",
     "output_type": "stream",
     "text": [
      "CSV file saved successfully at: adjusted_datasets\\preferences.csv\n"
     ]
    }
   ],
   "source": [
    "import os\n",
    "\n",
    "# Define the folder path\n",
    "folder_path = \"adjusted_datasets\"\n",
    "\n",
    "# Ensure the folder exists\n",
    "os.makedirs(folder_path, exist_ok=True)\n",
    "\n",
    "# Define the full file path\n",
    "file_path = os.path.join(folder_path, \"preferences.csv\")\n",
    "\n",
    "# Save the DataFrame as a CSV file\n",
    "df.to_csv(file_path, index=False, encoding='utf-8')\n",
    "\n",
    "print(f\"CSV file saved successfully at: {file_path}\")"
   ]
  }
 ],
 "metadata": {
  "kernelspec": {
   "display_name": "venv",
   "language": "python",
   "name": "python3"
  },
  "language_info": {
   "codemirror_mode": {
    "name": "ipython",
    "version": 3
   },
   "file_extension": ".py",
   "mimetype": "text/x-python",
   "name": "python",
   "nbconvert_exporter": "python",
   "pygments_lexer": "ipython3",
   "version": "3.12.0"
  }
 },
 "nbformat": 4,
 "nbformat_minor": 2
}
